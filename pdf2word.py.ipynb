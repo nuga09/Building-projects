{
 "cells": [
  {
   "cell_type": "code",
   "execution_count": 3,
   "id": "5ffe6e7a",
   "metadata": {},
   "outputs": [
    {
     "name": "stderr",
     "output_type": "stream",
     "text": [
      "[INFO] Start to convert ../work related/work application docs/Nuga D.A. Curriculum Vitae.pdf\n",
      "[INFO] \u001b[1;36m[1/4] Opening document...\u001b[0m\n",
      "[INFO] \u001b[1;36m[2/4] Analyzing document...\u001b[0m\n",
      "[WARNING] Replace font \"DejaVuSans\" with \"Times New Roman\" due to lack of data.\n",
      "[WARNING] Replace font \"DejaVuSans\" with \"Times New Roman\" due to lack of data.\n",
      "[INFO] \u001b[1;36m[3/4] Parsing pages...\u001b[0m\n",
      "[INFO] (1/3) Page 1\n",
      "[INFO] (2/3) Page 2\n",
      "[INFO] (3/3) Page 3\n",
      "[INFO] \u001b[1;36m[4/4] Creating pages...\u001b[0m\n",
      "[INFO] (1/3) Page 1\n",
      "[INFO] (2/3) Page 2\n",
      "[INFO] (3/3) Page 3\n",
      "[INFO] Terminated in 0.75s.\n"
     ]
    }
   ],
   "source": [
    "from pdf2docx import Converter\n",
    "\n",
    "pdf_file_path = '../work related/work application docs/Nuga D.A. Curriculum Vitae.pdf'\n",
    "docx_file_path = '../work related/work application docs/Nuga D.A_CV.docx'\n",
    "\n",
    "# convert pdf to docx\n",
    "cv = Converter(pdf_file_path)\n",
    "cv.convert(docx_file_path)      # all pages by default\n",
    "cv.close()"
   ]
  },
  {
   "cell_type": "code",
   "execution_count": 3,
   "id": "3c2b9dbf",
   "metadata": {},
   "outputs": [
    {
     "name": "stdout",
     "output_type": "stream",
     "text": [
      "KeysView(<configparser.ConfigParser object at 0x000002A39F9B4448>)\n"
     ]
    },
    {
     "ename": "KeyError",
     "evalue": "'max_worker'",
     "output_type": "error",
     "traceback": [
      "\u001b[1;31m---------------------------------------------------------------------------\u001b[0m",
      "\u001b[1;31mKeyError\u001b[0m                                  Traceback (most recent call last)",
      "\u001b[1;32m<ipython-input-3-efe32c813ee2>\u001b[0m in \u001b[0;36m<module>\u001b[1;34m\u001b[0m\n\u001b[0;32m     76\u001b[0m \u001b[1;33m\u001b[0m\u001b[0m\n\u001b[0;32m     77\u001b[0m \u001b[1;32mif\u001b[0m \u001b[0m__name__\u001b[0m \u001b[1;33m==\u001b[0m \u001b[1;34m'__main__'\u001b[0m\u001b[1;33m:\u001b[0m\u001b[1;33m\u001b[0m\u001b[1;33m\u001b[0m\u001b[0m\n\u001b[1;32m---> 78\u001b[1;33m     \u001b[0mmain\u001b[0m\u001b[1;33m(\u001b[0m\u001b[1;33m)\u001b[0m\u001b[1;33m\u001b[0m\u001b[1;33m\u001b[0m\u001b[0m\n\u001b[0m",
      "\u001b[1;32m<ipython-input-3-efe32c813ee2>\u001b[0m in \u001b[0;36mmain\u001b[1;34m()\u001b[0m\n\u001b[0;32m     54\u001b[0m \u001b[1;33m\u001b[0m\u001b[0m\n\u001b[0;32m     55\u001b[0m     \u001b[0mtasks\u001b[0m \u001b[1;33m=\u001b[0m \u001b[1;33m[\u001b[0m\u001b[1;33m]\u001b[0m\u001b[1;33m\u001b[0m\u001b[1;33m\u001b[0m\u001b[0m\n\u001b[1;32m---> 56\u001b[1;33m     \u001b[1;32mwith\u001b[0m \u001b[0mProcessPoolExecutor\u001b[0m\u001b[1;33m(\u001b[0m\u001b[0mmax_workers\u001b[0m\u001b[1;33m=\u001b[0m\u001b[0mint\u001b[0m\u001b[1;33m(\u001b[0m\u001b[0mconfig\u001b[0m\u001b[1;33m[\u001b[0m\u001b[1;34m'max_worker'\u001b[0m\u001b[1;33m]\u001b[0m\u001b[1;33m)\u001b[0m\u001b[1;33m)\u001b[0m \u001b[1;32mas\u001b[0m \u001b[0mexecutor\u001b[0m\u001b[1;33m:\u001b[0m\u001b[1;33m\u001b[0m\u001b[1;33m\u001b[0m\u001b[0m\n\u001b[0m\u001b[0;32m     57\u001b[0m         \u001b[1;32mfor\u001b[0m \u001b[0mfile\u001b[0m \u001b[1;32min\u001b[0m \u001b[0mos\u001b[0m\u001b[1;33m.\u001b[0m\u001b[0mlistdir\u001b[0m\u001b[1;33m(\u001b[0m\u001b[0mconfig\u001b[0m\u001b[1;33m[\u001b[0m\u001b[1;34m'pdf_folder'\u001b[0m\u001b[1;33m]\u001b[0m\u001b[1;33m)\u001b[0m\u001b[1;33m:\u001b[0m\u001b[1;33m\u001b[0m\u001b[1;33m\u001b[0m\u001b[0m\n\u001b[0;32m     58\u001b[0m             \u001b[0mextension_name\u001b[0m \u001b[1;33m=\u001b[0m \u001b[0mos\u001b[0m\u001b[1;33m.\u001b[0m\u001b[0mpath\u001b[0m\u001b[1;33m.\u001b[0m\u001b[0msplitext\u001b[0m\u001b[1;33m(\u001b[0m\u001b[0mfile\u001b[0m\u001b[1;33m)\u001b[0m\u001b[1;33m[\u001b[0m\u001b[1;36m1\u001b[0m\u001b[1;33m]\u001b[0m\u001b[1;33m\u001b[0m\u001b[1;33m\u001b[0m\u001b[0m\n",
      "\u001b[1;32m~\\Anaconda3\\lib\\configparser.py\u001b[0m in \u001b[0;36m__getitem__\u001b[1;34m(self, key)\u001b[0m\n\u001b[0;32m    956\u001b[0m     \u001b[1;32mdef\u001b[0m \u001b[0m__getitem__\u001b[0m\u001b[1;33m(\u001b[0m\u001b[0mself\u001b[0m\u001b[1;33m,\u001b[0m \u001b[0mkey\u001b[0m\u001b[1;33m)\u001b[0m\u001b[1;33m:\u001b[0m\u001b[1;33m\u001b[0m\u001b[1;33m\u001b[0m\u001b[0m\n\u001b[0;32m    957\u001b[0m         \u001b[1;32mif\u001b[0m \u001b[0mkey\u001b[0m \u001b[1;33m!=\u001b[0m \u001b[0mself\u001b[0m\u001b[1;33m.\u001b[0m\u001b[0mdefault_section\u001b[0m \u001b[1;32mand\u001b[0m \u001b[1;32mnot\u001b[0m \u001b[0mself\u001b[0m\u001b[1;33m.\u001b[0m\u001b[0mhas_section\u001b[0m\u001b[1;33m(\u001b[0m\u001b[0mkey\u001b[0m\u001b[1;33m)\u001b[0m\u001b[1;33m:\u001b[0m\u001b[1;33m\u001b[0m\u001b[1;33m\u001b[0m\u001b[0m\n\u001b[1;32m--> 958\u001b[1;33m             \u001b[1;32mraise\u001b[0m \u001b[0mKeyError\u001b[0m\u001b[1;33m(\u001b[0m\u001b[0mkey\u001b[0m\u001b[1;33m)\u001b[0m\u001b[1;33m\u001b[0m\u001b[1;33m\u001b[0m\u001b[0m\n\u001b[0m\u001b[0;32m    959\u001b[0m         \u001b[1;32mreturn\u001b[0m \u001b[0mself\u001b[0m\u001b[1;33m.\u001b[0m\u001b[0m_proxies\u001b[0m\u001b[1;33m[\u001b[0m\u001b[0mkey\u001b[0m\u001b[1;33m]\u001b[0m\u001b[1;33m\u001b[0m\u001b[1;33m\u001b[0m\u001b[0m\n\u001b[0;32m    960\u001b[0m \u001b[1;33m\u001b[0m\u001b[0m\n",
      "\u001b[1;31mKeyError\u001b[0m: 'max_worker'"
     ]
    }
   ],
   "source": [
    "import os\n",
    "from configparser import ConfigParser\n",
    "from io import StringIO\n",
    "from io import open\n",
    "from concurrent.futures import ProcessPoolExecutor\n",
    "\n",
    "from pdfminer.pdfinterp import PDFResourceManager\n",
    "#from pdfminer.pdfinterp import process_pdf\n",
    "from pdfminer.converter import TextConverter\n",
    "from pdfminer.layout import LAParams\n",
    "from docx import Document\n",
    "\n",
    "\n",
    "def read_from_pdf(file_path):\n",
    "    with open(file_path, 'rb') as file:\n",
    "        resource_manager = PDFResourceManager()\n",
    "        return_str = StringIO()\n",
    "        lap_params = LAParams()\n",
    "\n",
    "        device = TextConverter(\n",
    "            resource_manager, return_str, laparams=lap_params)\n",
    "        process_pdf(resource_manager, device, file)\n",
    "        device.close()\n",
    "\n",
    "        content = return_str.getvalue()\n",
    "        return_str.close()\n",
    "        return content\n",
    "\n",
    "\n",
    "def save_text_to_word(content, file_path):\n",
    "    doc = Document()\n",
    "    for line in content.split('\\n'):\n",
    "        paragraph = doc.add_paragraph()\n",
    "        paragraph.add_run(remove_control_characters(line))\n",
    "    doc.save(file_path)\n",
    "\n",
    "\n",
    "def remove_control_characters(content):\n",
    "    mpa = dict.fromkeys(range(32))\n",
    "    return content.translate(mpa)\n",
    "\n",
    "\n",
    "def pdf_to_word(pdf_file_path, word_file_path):\n",
    "    content = read_from_pdf(pdf_file_path)\n",
    "    save_text_to_word(content, word_file_path)\n",
    "\n",
    "\n",
    "def main():\n",
    "    config_parser = ConfigParser()\n",
    "    config_parser.read('config.cfg')\n",
    "    config = config_parser\n",
    "    print(config_parser.keys())\n",
    "    #config = config_parser['default']\n",
    "\n",
    "    tasks = []\n",
    "    with ProcessPoolExecutor(max_workers=int(config['max_worker'])) as executor:\n",
    "        for file in os.listdir(config['pdf_folder']):\n",
    "            extension_name = os.path.splitext(file)[1]\n",
    "            if extension_name != '.pdf':\n",
    "                continue\n",
    "            file_name = os.path.splitext(file)[0]\n",
    "            pdf_file = config['pdf_folder'] + '/' + file\n",
    "            word_file = config['word_folder'] + '/' + file_name + '.docx'\n",
    "            print('正在处理: ', file)\n",
    "            result = executor.submit(pdf_to_word, pdf_file, word_file)\n",
    "            tasks.append(result)\n",
    "    while True:\n",
    "        exit_flag = True\n",
    "        for task in tasks:\n",
    "            if not task.done():\n",
    "                exit_flag = False\n",
    "        if exit_flag:\n",
    "            print('完成')\n",
    "            exit(0)\n",
    "\n",
    "\n",
    "if __name__ == '__main__':\n",
    "    main()"
   ]
  },
  {
   "cell_type": "code",
   "execution_count": null,
   "id": "efb61c77",
   "metadata": {},
   "outputs": [],
   "source": []
  }
 ],
 "metadata": {
  "kernelspec": {
   "display_name": "Python 3",
   "language": "python",
   "name": "python3"
  },
  "language_info": {
   "codemirror_mode": {
    "name": "ipython",
    "version": 3
   },
   "file_extension": ".py",
   "mimetype": "text/x-python",
   "name": "python",
   "nbconvert_exporter": "python",
   "pygments_lexer": "ipython3",
   "version": "3.7.9"
  }
 },
 "nbformat": 4,
 "nbformat_minor": 5
}
