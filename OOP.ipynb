{
 "cells": [
  {
   "cell_type": "code",
   "execution_count": 38,
   "id": "superior-narrative",
   "metadata": {},
   "outputs": [
    {
     "name": "stdout",
     "output_type": "stream",
     "text": [
      "john is coding\n",
      "None\n",
      "john is coding in python\n",
      "None\n",
      "name = john, age= 23, level=5000\n",
      "False\n",
      "8000\n"
     ]
    }
   ],
   "source": [
    "class Engineer:\n",
    "    def __init__(self, name, age, level, salary):\n",
    "        self.name = name\n",
    "        self.age = age \n",
    "        self.salary = salary\n",
    "        self.level = level\n",
    "    def code(self):\n",
    "        print(f\"{self.name} is coding\")\n",
    "    def coding_language(self, language):\n",
    "        print(f\"{self.name} is coding in {language}\")\n",
    "#     def information(self):\n",
    "#         information = f'name = {self.name}, age= {self.age}, level={self.level}'\n",
    "#         return information\n",
    "    def __str__(self):\n",
    "        information = f'name = {self.name}, age= {self.age}, level={self.level}'\n",
    "        return information\n",
    "    def __eq__(self, other):\n",
    "        return self.name == other.name and self.age == other.age \n",
    "    \n",
    "    @staticmethod\n",
    "    def entry_salary(age):\n",
    "        if age < 25 :\n",
    "            return 4000\n",
    "        if age < 45:\n",
    "            return 7000\n",
    "        return 8000\n",
    "\n",
    "#m = ['john', 23, 5000, 'programmer']        \n",
    "e = Engineer('john', 23, 5000, 'junior programmer')\n",
    "f = Engineer('jack', 23, 5000, 'senior programmer')\n",
    "print(e.code())\n",
    "print(e.coding_language('python'))\n",
    "#print(e.information())\n",
    "print(e)\n",
    "print(e == f )\n",
    "print(e.entry_salary(56))\n"
   ]
  },
  {
   "cell_type": "code",
   "execution_count": 39,
   "id": "digital-importance",
   "metadata": {},
   "outputs": [
    {
     "name": "stdout",
     "output_type": "stream",
     "text": [
      "1\n",
      "3\n"
     ]
    }
   ],
   "source": [
    "class Person:\n",
    "    number_opple = 0\n",
    "    \n",
    "    def __init__(self,name):\n",
    "        self.name = name\n",
    "        Person.add_person()\n",
    "    \n",
    "    @classmethod    \n",
    "    def number_opple_(cls):\n",
    "        return cls.number_opple\n",
    "    \n",
    "    @classmethod\n",
    "    def add_person(cls):\n",
    "         cls.number_opple +=1\n",
    "        \n",
    "\n",
    "p1= Person('tim')\n",
    "print(Person.number_opple)\n",
    "p2= Person('bim')\n",
    "p1= Person('tom')\n",
    "print(Person.number_opple_())"
   ]
  },
  {
   "cell_type": "code",
   "execution_count": 40,
   "id": "grateful-demonstration",
   "metadata": {},
   "outputs": [
    {
     "name": "stdout",
     "output_type": "stream",
     "text": [
      "i dont know what to say\n",
      "i am tim  and i am 8 old\n",
      "meow\n",
      "i am bill and i am 5 old, my color is green\n",
      "woof\n",
      "i dont know what to say\n"
     ]
    }
   ],
   "source": [
    "class Pet:\n",
    "    def __init__(self, name, age):\n",
    "        self.name = name \n",
    "        self.age = age \n",
    "        \n",
    "    def show(self):\n",
    "        print(f\"i am {self.name} and i am {self.age} old\")\n",
    "        \n",
    "    def speak(self):\n",
    "        print('i dont know what to say')\n",
    "        \n",
    "class Cat(Pet):\n",
    "    def __init__(self, name, age, color):\n",
    "        super().__init__(name,age)\n",
    "        self.color = color\n",
    "        \n",
    "    def speak(self):\n",
    "        print('meow')\n",
    "    def show(self):\n",
    "        print(f\"i am {self.name} and i am {self.age} old, my color is {self.color}\")\n",
    "        \n",
    "        \n",
    "class Dog(Pet):\n",
    "    def speak(self):\n",
    "        print('woof')\n",
    "        \n",
    "class Fish(Pet):\n",
    "    pass\n",
    "        \n",
    "p = Pet('tim ', 8)\n",
    "p.speak()\n",
    "p.show()\n",
    "\n",
    "c = Cat('bill', 5,'green')\n",
    "c.speak()\n",
    "c.show()\n",
    "\n",
    "d = Dog('nuh', 7)\n",
    "d.speak()\n",
    "\n",
    "f= Fish('bbles', 3)\n",
    "f.speak()"
   ]
  },
  {
   "cell_type": "code",
   "execution_count": 63,
   "id": "tribal-sierra",
   "metadata": {},
   "outputs": [
    {
     "name": "stdout",
     "output_type": "stream",
     "text": [
      "we work for dunder miflin\n",
      "None\n",
      "we work for dunder miflin\n",
      "None\n",
      "i am salesman engineeer at dunder miflin\n",
      "None\n"
     ]
    }
   ],
   "source": [
    "class Employer:\n",
    "    def __init__(self, name):\n",
    "        self.name = name\n",
    "        \n",
    "    def company_name(self):\n",
    "        print(f'we work for {self.name}')\n",
    "        \n",
    "class SoftwareEngineer(Employer):\n",
    "    def __init__(self, name, title):\n",
    "        super().__init__(name)\n",
    "        self.title = title\n",
    "    def work(self):\n",
    "        print(f'{self.name} is coding..')\n",
    "    \n",
    "    def engineer(self):\n",
    "        print(f'i am {self.title} engineeer at {self.name}')\n",
    "        \n",
    "class Designer(Employer):\n",
    "    pass\n",
    "\n",
    "e = Employer('dunder miflin')\n",
    "se = SoftwareEngineer('dunder miflin','salesman')\n",
    "print(e.company_name())\n",
    "print(se.company_name())\n",
    "print(se.engineer())"
   ]
  },
  {
   "cell_type": "markdown",
   "id": "furnished-logistics",
   "metadata": {},
   "source": [
    "# polymorphism"
   ]
  },
  {
   "cell_type": "code",
   "execution_count": 64,
   "id": "rental-lincoln",
   "metadata": {},
   "outputs": [
    {
     "name": "stdout",
     "output_type": "stream",
     "text": [
      "max is coding..\n",
      "bimo is coding..\n"
     ]
    }
   ],
   "source": [
    "employees= [SoftwareEngineer('max','boss'),\n",
    "           SoftwareEngineer('bimo','tax')]\n",
    "\n",
    "def motivate_employees(employees):\n",
    "    for employee in employees:\n",
    "        employee.work()\n",
    "motivate_employees(employees)"
   ]
  },
  {
   "cell_type": "markdown",
   "id": "referenced-reading",
   "metadata": {},
   "source": [
    "# encapsulation"
   ]
  },
  {
   "cell_type": "code",
   "execution_count": 82,
   "id": "blind-signal",
   "metadata": {},
   "outputs": [
    {
     "name": "stdout",
     "output_type": "stream",
     "text": [
      "None\n",
      "12000\n"
     ]
    }
   ],
   "source": [
    "class SoftEngineer:\n",
    "    def __init__(self, name, age):\n",
    "        self.name = name \n",
    "        self.age = age \n",
    "        self._salary = None\n",
    "        self._num_of_bugs_solved = 0\n",
    "        \n",
    "    def code(self):\n",
    "        self._num_of_bugs_solved += 1\n",
    "    \n",
    "    def get_salary(self):\n",
    "        return self._salary\n",
    "    \n",
    "    def set_salary(self, base_value):\n",
    "        self._salary = self._calculate_salary(base_value)\n",
    "    \n",
    "#     def set_salary(self, base_value):\n",
    "#         if value < 1000:\n",
    "#             self._salary = 1000\n",
    "#         if value > 20000:\n",
    "#             self._salary= 20000\n",
    "#         self._salary = value\n",
    "    \n",
    "    def _calculate_salary(self, base_value):\n",
    "        if self._num_of_bugs_solved < 10:\n",
    "            return base_value\n",
    "        if self._num_of_bugs_solved < 100:\n",
    "            return base_value * 2\n",
    "        return base_value * 3\n",
    "        \n",
    "se = SoftEngineer('max', 56)\n",
    "print(se._salary)\n",
    "# se.set_salary(6000)\n",
    "# print(se.get_salary())\n",
    "\n",
    "for i in range(70):\n",
    "    se.code()\n",
    "    \n",
    "se.set_salary(6000)\n",
    "print(se.get_salary())"
   ]
  },
  {
   "cell_type": "markdown",
   "id": "ahead-penguin",
   "metadata": {},
   "source": [
    "# abstraction\n"
   ]
  },
  {
   "cell_type": "code",
   "execution_count": 94,
   "id": "invalid-income",
   "metadata": {},
   "outputs": [
    {
     "name": "stdout",
     "output_type": "stream",
     "text": [
      "7000\n"
     ]
    }
   ],
   "source": [
    "class SoftEngineer:\n",
    "    \n",
    "    def __init__(self):\n",
    "        self._salary = None\n",
    "    \n",
    "    @property\n",
    "    def salary(self):\n",
    "        return self._salary\n",
    "    \n",
    "    @salary.setter\n",
    "    def salary(self, value):\n",
    "        self._salary = value\n",
    "        \n",
    "se = SoftEngineer()\n",
    "se.salary= 7000\n",
    "print(se.salary)"
   ]
  },
  {
   "cell_type": "code",
   "execution_count": null,
   "id": "alike-welsh",
   "metadata": {},
   "outputs": [],
   "source": [
    "\n",
    "import json\n",
    "import os.path\n",
    "class Inventory:\n",
    "    pets={}\n",
    "    \n",
    "    def __init__(self):\n",
    "        self.load()\n",
    "        \n",
    "    \n",
    "    def add(self,k,qty):\n",
    "        q = 0 \n",
    "        if k in self.pets:\n",
    "            v = self.pets[k]\n",
    "            q = v + qty\n",
    "        else:\n",
    "            q = qty\n",
    "        self.pets[k]= q\n",
    "        print(f'added {qty} {k}, total:{self.pets[k]}')\n",
    "        \n",
    "    def remove(self,k,qty):\n",
    "        q = 0 \n",
    "        if k in self.pets:\n",
    "            v = self.pets[k]\n",
    "            q = v - qty\n",
    "        if q < 0:\n",
    "            q=0\n",
    "        self.pets[k]= q\n",
    "        print(f'removed {qty}, total:{self.pets[k]}')\n",
    "        \n",
    "    def display(self):\n",
    "        for k,val in self.pets.items():\n",
    "            print(f'{k} = {val}')\n",
    "            \n",
    "    def save(self):\n",
    "        print('saving inventory')           \n",
    "        with open('invent.txt', 'w') as f:\n",
    "            json.dump(self.pets,f)\n",
    "        print('saved')\n",
    "        \n",
    "    def load(self):\n",
    "        print('loading inventory')\n",
    "        if not os.file.exists('invent.txt'):\n",
    "            print('nothing to load')\n",
    "            return\n",
    "        with open('invent.txt', 'r') as f:\n",
    "            self.pets= json.load(f)\n",
    "        print('loaded')\n",
    "            \n",
    "def main():\n",
    "    inv = Inventory()\n",
    "      \n",
    "    while True:\n",
    "        action = input('actions: add, remove,list, save, exit')\n",
    "        if action == 'exit':\n",
    "            break\n",
    "        if action == 'add' or action == 'remove':\n",
    "            k = input('enter an animal:')\n",
    "            qty = int(input('enter an animal:'))\n",
    "            if action == 'add':\n",
    "                inv.add(k,qty)\n",
    "            if action == 'remove':\n",
    "                inv.remove(k,qty)\n",
    "        if action == 'list':\n",
    "            inv.display()\n",
    "        if action == 'save':\n",
    "            inv.save()\n",
    "\n",
    "if __name__ == \"__main__\":\n",
    "    main()"
   ]
  },
  {
   "cell_type": "code",
   "execution_count": null,
   "id": "acceptable-piano",
   "metadata": {},
   "outputs": [],
   "source": [
    "class Person:\n",
    "    _name = 'No name'\n",
    "    def setName(self, name):\n",
    "        self.name = name\n",
    "        print(f' name is {self.name}')\n",
    "        \n",
    "    def __think(self):\n",
    "        print('Thinking to myself')\n",
    "    def work(self):\n",
    "        self.__think()\n",
    "        \n",
    "    def __init__(self):\n",
    "        print('Constructor')\n",
    "    def __call__(self):\n",
    "        print('call someone')\n",
    "        \n",
    "class Child(Person):\n",
    "    def testDouble(self):\n",
    "        self.__think(self)\n",
    "    "
   ]
  },
  {
   "cell_type": "code",
   "execution_count": null,
   "id": "integral-tract",
   "metadata": {},
   "outputs": [],
   "source": [
    "p = Person()\n",
    "p.setName('OG')\n",
    "print(f'weak private{p._name}')\n",
    "p._name = 'noo'\n",
    ".setName('OG')\n",
    "print(f'weak private{p._name}')\n",
    "\n",
    "p.work()\n",
    "c = Child()\n",
    "c.testDouble()\n",
    "\n",
    "class_ =Person()\n",
    "print(class_)\n",
    "\n",
    "p.__call__()"
   ]
  },
  {
   "cell_type": "code",
   "execution_count": null,
   "id": "medium-laptop",
   "metadata": {},
   "outputs": [],
   "source": []
  }
 ],
 "metadata": {
  "kernelspec": {
   "display_name": "Python 3",
   "language": "python",
   "name": "python3"
  },
  "language_info": {
   "codemirror_mode": {
    "name": "ipython",
    "version": 3
   },
   "file_extension": ".py",
   "mimetype": "text/x-python",
   "name": "python",
   "nbconvert_exporter": "python",
   "pygments_lexer": "ipython3",
   "version": "3.7.9"
  }
 },
 "nbformat": 4,
 "nbformat_minor": 5
}
